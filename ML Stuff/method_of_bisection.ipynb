{
 "cells": [
  {
   "attachments": {},
   "cell_type": "markdown",
   "metadata": {},
   "source": [
    "<div align=\"center\">\n",
    "    <h1> Method of Bisection (Root Finding Method) </h1>\n",
    "</div>\n",
    "\n",
    "### A\n",
    "\n",
    "In this question, we are asked to write a Python script that finds the root of the equation `e^x = 10 – 2x` accurate to 6 decimal places.\n",
    "\n",
    "To solve this problem, we use the bisection method. First, we define a function `f(x) = e^x - 10 + 2x`. We then choose two initial points `xa = 1` and `xb = 3` such that `f(xa)` and `f(xb)` have opposite signs. This means that there is at least one root in the interval `(1, 3)`.\n",
    "\n",
    "We then compute the midpoint `xm` of `xa` and `xb`, and evaluate `f(xm)`. We then choose two points out of the three points `xa`, `xb`, and `xm` where `f` has opposite signs, but one of those points must be `xm`. We replace one of `xa` or `xb` with `xm` based on the signs above, and repeat the loop.\n",
    "\n",
    "We first make a loop that runs 10 times to test our program, and then re-write the program so that it stops when the desired accuracy is obtained."
   ]
  },
  {
   "attachments": {},
   "cell_type": "markdown",
   "metadata": {},
   "source": [
    "##### **Iterating 10 times:**"
   ]
  },
  {
   "cell_type": "code",
   "execution_count": null,
   "metadata": {},
   "outputs": [],
   "source": [
    "import math\n",
    "\n",
    "def evalFunction(midpoint):\n",
    "    return math.exp(midpoint) - 10 + 2 * midpoint\n",
    "\n",
    "def checkOppositeSigns(x, y):\n",
    "    return (x < 0 and y > 0) or (x > 0 and y < 0)\n",
    "\n",
    "xa = 1\n",
    "xb = 3\n",
    "eval_xa = evalFunction(xa)\n",
    "eval_xb = evalFunction(xb)\n",
    "\n",
    "for i in range (0, 10):\n",
    "    xm = (xa + xb) / 2\n",
    "    print(f\"Midpoint (xm) = {xm}\")\n",
    "    eval_xm = evalFunction(xm)\n",
    "    if(checkOppositeSigns(eval_xm, eval_xa)):\n",
    "        xa = xm\n",
    "        continue\n",
    "    elif(checkOppositeSigns(eval_xm, eval_xb)):\n",
    "        xb = xm\n",
    "        continue\n"
   ]
  },
  {
   "attachments": {},
   "cell_type": "markdown",
   "metadata": {},
   "source": [
    "##### **Now, iterating until the desired accuracy (upto 6 decimal places) is achieved:**"
   ]
  },
  {
   "cell_type": "code",
   "execution_count": null,
   "metadata": {},
   "outputs": [],
   "source": [
    "import math\n",
    "\n",
    "def evalFunction(midpoint):\n",
    "    return math.exp(midpoint) - 10 + 2 * midpoint\n",
    "\n",
    "def checkOppositeSigns(x, y):\n",
    "    return (x < 0 and y > 0) or (x > 0 and y < 0)\n",
    "\n",
    "def checkAccuracy(point, tolerance):\n",
    "    return str(point)[::-1].find('.') == tolerance\n",
    "\n",
    "xa = 1\n",
    "xb = 3\n",
    "eval_xa = evalFunction(xa)\n",
    "eval_xb = evalFunction(xb)\n",
    "\n",
    "while True:\n",
    "    xm = (xa + xb) / 2\n",
    "    print(f\"Midpoint (xm) = {xm}\")\n",
    "    if (checkAccuracy(xm, 6)):\n",
    "        break\n",
    "    eval_xm = evalFunction(xm)\n",
    "    if(checkOppositeSigns(eval_xm, eval_xa)):\n",
    "        xa = xm\n",
    "        continue\n",
    "    elif(checkOppositeSigns(eval_xm, eval_xb)):\n",
    "        xb = xm\n",
    "        continue\n"
   ]
  },
  {
   "attachments": {},
   "cell_type": "markdown",
   "metadata": {},
   "source": [
    "## B\n",
    "\n",
    "We use the method of bisection to find the intersection of the line segment connecting `(1, 2, 3)` and `(3, 4, 5)` with the plane `2x + 3y + 4z = 30`. The coordinates of the required point should be accurate to 5 decimal places.\n",
    "\n",
    "To solve this problem, we can first find the equation of the line segment (by subtracting the coordinates of the two points) connecting the two points. We can then find the intersection of this line with the plane by substituting the equation of the line into the equation of the plane and solving for `t`, which is the variable that connects the two segments. We then use the method of bisection to find the value of `t` that gives us the intersection point accurate to 5 decimal places. The execution is stopped as soon as the desired accuracy/tolerance, in decimal places, is obtained. Here's the code:"
   ]
  },
  {
   "cell_type": "code",
   "execution_count": null,
   "metadata": {},
   "outputs": [],
   "source": [
    "import math\n",
    "\n",
    "def evalFunction(t):\n",
    "    x = 1 + t * (3 - 1)\n",
    "    y = 2 + t * (4 - 2)\n",
    "    z = 3 + t * (5 - 3)\n",
    "    return 2 * x + 3 * y + 4 * z - 30\n",
    "\n",
    "def checkAccuracy(point, tolerance):\n",
    "    return str(point)[::-1].find('.') == tolerance\n",
    "\n",
    "a = 0\n",
    "b = 1\n",
    "eval_a = evalFunction(a)\n",
    "eval_b = evalFunction(b)\n",
    "\n",
    "while True:\n",
    "    t = (a + b) / 2\n",
    "    x = 1 + t * (3 - 1)\n",
    "    y = 2 + t * (4 - 2)\n",
    "    z = 3 + t * (5 - 3)\n",
    "    print(f\"t = {t}, x = {x}, y = {y}, z = {z}\")\n",
    "    if (checkAccuracy(x, 5) and checkAccuracy(y, 5) and checkAccuracy(z, 5)):\n",
    "        break\n",
    "    eval_t = evalFunction(t)\n",
    "    if eval_t == 0:\n",
    "        break\n",
    "    elif eval_a * eval_t < 0:\n",
    "        b = t\n",
    "        eval_b = eval_t\n",
    "    else:\n",
    "        a = t\n",
    "        eval_a = eval_t\n",
    "\n",
    "print(f\"Intersection Points: ({x}, {y}, {z})\")\n"
   ]
  }
 ],
 "metadata": {
  "kernelspec": {
   "display_name": "Python 3",
   "language": "python",
   "name": "python3"
  },
  "language_info": {
   "codemirror_mode": {
    "name": "ipython",
    "version": 3
   },
   "file_extension": ".py",
   "mimetype": "text/x-python",
   "name": "python",
   "nbconvert_exporter": "python",
   "pygments_lexer": "ipython3",
   "version": "3.10.11"
  },
  "orig_nbformat": 4
 },
 "nbformat": 4,
 "nbformat_minor": 2
}
